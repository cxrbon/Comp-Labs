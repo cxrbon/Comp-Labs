{
 "cells": [
  {
   "cell_type": "markdown",
   "id": "c59f0ea8",
   "metadata": {},
   "source": [
    "# Lab 4 : Recursion"
   ]
  },
  {
   "cell_type": "markdown",
   "id": "c0c7fcad",
   "metadata": {},
   "source": [
    "## Task 1"
   ]
  },
  {
   "cell_type": "code",
   "execution_count": 1,
   "id": "178065a3",
   "metadata": {},
   "outputs": [
    {
     "name": "stdout",
     "output_type": "stream",
     "text": [
      "[1, 2, 6, 24, 120]\n"
     ]
    }
   ],
   "source": [
    "def factorial(n):\n",
    "    if n == 0 or n == 1:\n",
    "        return (1)\n",
    "    else:\n",
    "        return n * factorial(n-1)\n",
    "\n",
    "def factorialList(n):\n",
    "    factList = []\n",
    "    for i in range(1,n+1):\n",
    "        factList.append(factorial(i))\n",
    "    return factList\n",
    "\n",
    "\n",
    "print(factorialList(5))"
   ]
  },
  {
   "cell_type": "markdown",
   "id": "8330334e",
   "metadata": {},
   "source": [
    "## Task 2"
   ]
  },
  {
   "cell_type": "code",
   "execution_count": 2,
   "id": "8b3761bd",
   "metadata": {},
   "outputs": [
    {
     "name": "stdout",
     "output_type": "stream",
     "text": [
      "18\n"
     ]
    }
   ],
   "source": [
    "a = [1,2,6,4,5]\n",
    "\n",
    "def getSum(aList):\n",
    "    if not aList:\n",
    "        return 0\n",
    "    else:\n",
    "        return aList[0] + getSum(aList[1:]) \n",
    "print (getSum(a))"
   ]
  },
  {
   "cell_type": "markdown",
   "id": "9484ea34",
   "metadata": {},
   "source": [
    "## Task 3"
   ]
  },
  {
   "cell_type": "code",
   "execution_count": 5,
   "id": "055c1c0b",
   "metadata": {},
   "outputs": [
    {
     "name": "stdout",
     "output_type": "stream",
     "text": [
      "1\n",
      "2\n",
      "3\n",
      "4\n",
      "\n",
      "1\n",
      "4\n",
      "9\n",
      "16\n",
      "\n",
      "30\n"
     ]
    }
   ],
   "source": [
    "def printToN(n):\n",
    "    if n != 1:\n",
    "        printToN(n-1)\n",
    "    print(n)\n",
    "\n",
    "def squares(n):\n",
    "    if n != 1:\n",
    "        squares(n-1)\n",
    "    print(n**2)\n",
    "\n",
    "        \n",
    "def sumSquares(n):\n",
    "    if n == 1:\n",
    "        return 1\n",
    "    else:\n",
    "        return n**2 +(sumSquares(n-1))\n",
    "\n",
    "printToN(4)\n",
    "print(\"\")\n",
    "squares(4)\n",
    "print(\"\")\n",
    "print(sumSquares(4))"
   ]
  },
  {
   "cell_type": "markdown",
   "id": "fe241b03",
   "metadata": {},
   "source": [
    "## Task 4"
   ]
  },
  {
   "cell_type": "code",
   "execution_count": 6,
   "id": "8c05a5c9",
   "metadata": {},
   "outputs": [
    {
     "name": "stdout",
     "output_type": "stream",
     "text": [
      "2\n"
     ]
    }
   ],
   "source": [
    "def mininmum (aList):\n",
    "    if len(aList) == 1:\n",
    "        return aList[0]\n",
    "    else:\n",
    "        return min(aList[0],mininmum(aList[1:]))\n",
    "\n",
    "print(mininmum([8,2,3,4,5]))"
   ]
  },
  {
   "cell_type": "markdown",
   "id": "2b2c6a7c",
   "metadata": {},
   "source": [
    "## Task 5"
   ]
  },
  {
   "cell_type": "code",
   "execution_count": 8,
   "id": "c7b8e57f",
   "metadata": {},
   "outputs": [
    {
     "name": "stdout",
     "output_type": "stream",
     "text": [
      "16\n"
     ]
    }
   ],
   "source": [
    "def seq(n):\n",
    "    if n == 0:\n",
    "        return (1)\n",
    "    elif n == 1:\n",
    "        return (2)\n",
    "    else:\n",
    "        return seq(n-1) + ((seq(n-1)-seq(n-2))+1)\n",
    "\n",
    "print(seq(5))"
   ]
  }
 ],
 "metadata": {
  "kernelspec": {
   "display_name": "Python 3 (ipykernel)",
   "language": "python",
   "name": "python3"
  },
  "language_info": {
   "codemirror_mode": {
    "name": "ipython",
    "version": 3
   },
   "file_extension": ".py",
   "mimetype": "text/x-python",
   "name": "python",
   "nbconvert_exporter": "python",
   "pygments_lexer": "ipython3",
   "version": "3.9.12"
  }
 },
 "nbformat": 4,
 "nbformat_minor": 5
}
