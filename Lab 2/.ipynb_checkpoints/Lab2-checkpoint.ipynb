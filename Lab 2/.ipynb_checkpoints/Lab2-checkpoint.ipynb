{
 "cells": [
  {
   "cell_type": "markdown",
   "id": "d48da020",
   "metadata": {},
   "source": [
    "## Task 1 ##"
   ]
  },
  {
   "cell_type": "code",
   "execution_count": 52,
   "id": "091558c7",
   "metadata": {},
   "outputs": [
    {
     "name": "stdout",
     "output_type": "stream",
     "text": [
      "Please Enter a File name: Tiny.txt\n",
      "[[120, 150.12], [140, 180.1], [70, 250.02], [99, 398.72], [144, 205.42]]\n"
     ]
    }
   ],
   "source": [
    "def txtReader(file):\n",
    "    master = []\n",
    "    with open (file, \"r\") as f:\n",
    "        for line in f:\n",
    "            line = line.strip().split(',')\n",
    "            line[0] = int(line[0])\n",
    "            line[1] = float(line[1])\n",
    "            master.append(line)\n",
    "    return(master)\n",
    "\n",
    "file = str(input(\"Please Enter a File name: \"))\n",
    "print(txtReader(file))"
   ]
  },
  {
   "cell_type": "code",
   "execution_count": 53,
   "id": "bae01fd2",
   "metadata": {},
   "outputs": [
    {
     "name": "stdout",
     "output_type": "stream",
     "text": [
      "Please Enter a File name: Tiny.txt\n",
      "120 miles, £150.12\n",
      "140 miles, £180.1\n",
      "70 miles, £250.02\n",
      "99 miles, £398.72\n",
      "144 miles, £205.42\n"
     ]
    }
   ],
   "source": [
    "def txtReader2(file):\n",
    "    master = []\n",
    "    with open (file, \"r\") as f:\n",
    "        for line in f:\n",
    "            line = line.strip().split(',')\n",
    "            line[0] = int(line[0])\n",
    "            line[1] = float(line[1])\n",
    "            master.append(line)\n",
    "    for item in master:\n",
    "        print(f\"{item[0]} miles, £{item[1]}\")\n",
    "\n",
    "file = str(input(\"Please Enter a File name: \"))\n",
    "txtReader2(file)\n"
   ]
  },
  {
   "cell_type": "markdown",
   "id": "243b6e44",
   "metadata": {},
   "source": [
    "## Task 2"
   ]
  },
  {
   "cell_type": "code",
   "execution_count": 54,
   "id": "07013158",
   "metadata": {},
   "outputs": [
    {
     "name": "stdout",
     "output_type": "stream",
     "text": [
      "Please Enter a File name: Tiny.txt\n",
      "70 miles, £250.02\n",
      "99 miles, £398.72\n",
      "120 miles, £150.12\n",
      "140 miles, £180.1\n",
      "144 miles, £205.42\n"
     ]
    }
   ],
   "source": [
    "def selectionSortDistance(aList):\n",
    "    mydict = dict(aList)\n",
    "    \n",
    "    #creating a separate list of the distances\n",
    "    dist = []\n",
    "    for i in aList:\n",
    "        dist.append(i[0])\n",
    "        \n",
    "    #sorting the *dist* list\n",
    "    index = range(0, len(dist)-1)\n",
    "    for i in index:\n",
    "        minDist = i\n",
    "        for j in range (i+1, len(dist)):\n",
    "            if dist[j] < dist[minDist]:\n",
    "                minDist = j\n",
    "        if minDist != i:\n",
    "            dist[minDist], dist[i] = dist[i], dist[minDist]\n",
    "    \n",
    "    #defining a function to get the money from the corresponding distance from the dicitonary\n",
    "    def getValue(aKey):\n",
    "        for key,value in mydict.items():\n",
    "            if aKey == key:\n",
    "                return value\n",
    "        return (\"N/A\")\n",
    "    \n",
    "    #matching the money and distance:\n",
    "    for item in dist:\n",
    "        print(f\"{item} miles, £{getValue(item)}\")\n",
    "        \n",
    "\n",
    "def txtReader3(file):\n",
    "    master = []\n",
    "    with open (file, \"r\") as f:\n",
    "        for line in f:\n",
    "            line = line.strip().split(',')\n",
    "            line[0] = int(line[0])\n",
    "            line[1] = float(line[1])\n",
    "            master.append(line)\n",
    "    \n",
    "    selectionSortDistance(master)\n",
    "\n",
    "file = str(input(\"Please Enter a File name: \"))\n",
    "txtReader3(file)\n",
    "        \n",
    "        "
   ]
  },
  {
   "cell_type": "markdown",
   "id": "e2ed2f8f",
   "metadata": {},
   "source": [
    "## Task 3"
   ]
  },
  {
   "cell_type": "code",
   "execution_count": 57,
   "id": "2da40ce2",
   "metadata": {},
   "outputs": [
    {
     "name": "stdout",
     "output_type": "stream",
     "text": [
      "Please Enter a File name: Tiny.txt\n",
      "120 miles, £150.12\n",
      "140 miles, £180.1\n",
      "144 miles, £205.42\n",
      "70 miles, £250.02\n",
      "99 miles, £398.72\n"
     ]
    }
   ],
   "source": [
    "def selectionSortPrice(aList):\n",
    "    mydict = dict(aList)\n",
    "    \n",
    "    #creating a separate list of the prices\n",
    "    price = []\n",
    "    for i in aList:\n",
    "        price.append(i[1])\n",
    "        \n",
    "    #sorting the *price* list\n",
    "    index = range(0, len(dist)-1)\n",
    "    for i in index:\n",
    "        minPrice = i\n",
    "        for j in range (i+1, len(price)):\n",
    "            if price[j] < price[minPrice]:\n",
    "                minPrice = j\n",
    "        if minPrice != i:\n",
    "            price[minPrice], price[i] = price[i], price[minPrice]\n",
    "    \n",
    "    #defining a function to get the money from the corresponding distance from the dicitonary\n",
    "    def getKey(aValue):\n",
    "        for key,value in mydict.items():\n",
    "            if aValue == value:\n",
    "                return key\n",
    "        return (\"N/A\")\n",
    "    \n",
    "    #matching the price and distance:\n",
    "    for item in price:\n",
    "        print(f\"{getKey(item)} miles, £{item}\")\n",
    "        \n",
    "\n",
    "def txtReader4(file):\n",
    "    master = []\n",
    "    with open (file, \"r\") as f:\n",
    "        for line in f:\n",
    "            line = line.strip().split(',')\n",
    "            line[0] = int(line[0])\n",
    "            line[1] = float(line[1])\n",
    "            master.append(line)\n",
    "    \n",
    "    selectionSortPrice(master)\n",
    "\n",
    "file = str(input(\"Please Enter a File name: \"))\n",
    "txtReader4(file)"
   ]
  }
 ],
 "metadata": {
  "kernelspec": {
   "display_name": "Python 3 (ipykernel)",
   "language": "python",
   "name": "python3"
  },
  "language_info": {
   "codemirror_mode": {
    "name": "ipython",
    "version": 3
   },
   "file_extension": ".py",
   "mimetype": "text/x-python",
   "name": "python",
   "nbconvert_exporter": "python",
   "pygments_lexer": "ipython3",
   "version": "3.9.12"
  }
 },
 "nbformat": 4,
 "nbformat_minor": 5
}
