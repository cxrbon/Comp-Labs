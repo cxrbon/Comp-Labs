{
 "cells": [
  {
   "cell_type": "markdown",
   "id": "d48da020",
   "metadata": {},
   "source": [
    "## Task 1 ##"
   ]
  },
  {
   "cell_type": "code",
   "execution_count": 52,
   "id": "091558c7",
   "metadata": {},
   "outputs": [
    {
     "name": "stdout",
     "output_type": "stream",
     "text": [
      "Please Enter a File name: Tiny.txt\n",
      "[[120, 150.12], [140, 180.1], [70, 250.02], [99, 398.72], [144, 205.42]]\n"
     ]
    }
   ],
   "source": [
    "def txtReader(file):\n",
    "    master = []\n",
    "    with open (file, \"r\") as f:\n",
    "        for line in f:\n",
    "            line = line.strip().split(',')\n",
    "            line[0] = int(line[0])\n",
    "            line[1] = float(line[1])\n",
    "            master.append(line)\n",
    "    return(master)\n",
    "\n",
    "file = str(input(\"Please Enter a File name: \"))\n",
    "print(txtReader(file))"
   ]
  },
  {
   "cell_type": "code",
   "execution_count": 53,
   "id": "bae01fd2",
   "metadata": {},
   "outputs": [
    {
     "name": "stdout",
     "output_type": "stream",
     "text": [
      "Please Enter a File name: Tiny.txt\n",
      "120 miles, £150.12\n",
      "140 miles, £180.1\n",
      "70 miles, £250.02\n",
      "99 miles, £398.72\n",
      "144 miles, £205.42\n"
     ]
    }
   ],
   "source": [
    "def txtReader2(file):\n",
    "    master = []\n",
    "    with open (file, \"r\") as f:\n",
    "        for line in f:\n",
    "            line = line.strip().split(',')\n",
    "            line[0] = int(line[0])\n",
    "            line[1] = float(line[1])\n",
    "            master.append(line)\n",
    "    for item in master:\n",
    "        print(f\"{item[0]} miles, £{item[1]}\")\n",
    "\n",
    "file = str(input(\"Please Enter a File name: \"))\n",
    "txtReader2(file)\n"
   ]
  },
  {
   "cell_type": "markdown",
   "id": "243b6e44",
   "metadata": {},
   "source": [
    "## Task 2"
   ]
  },
  {
   "cell_type": "code",
   "execution_count": 54,
   "id": "07013158",
   "metadata": {},
   "outputs": [
    {
     "name": "stdout",
     "output_type": "stream",
     "text": [
      "Please Enter a File name: Tiny.txt\n",
      "70 miles, £250.02\n",
      "99 miles, £398.72\n",
      "120 miles, £150.12\n",
      "140 miles, £180.1\n",
      "144 miles, £205.42\n"
     ]
    }
   ],
   "source": [
    "def selectionSortDistance(aList):\n",
    "    mydict = dict(aList)\n",
    "    \n",
    "    #creating a separate list of the distances\n",
    "    dist = []\n",
    "    for i in aList:\n",
    "        dist.append(i[0])\n",
    "        \n",
    "    #sorting the *dist* list\n",
    "    index = range(0, len(dist)-1)\n",
    "    for i in index:\n",
    "        minDist = i\n",
    "        for j in range (i+1, len(dist)):\n",
    "            if dist[j] < dist[minDist]:\n",
    "                minDist = j\n",
    "        if minDist != i:\n",
    "            dist[minDist], dist[i] = dist[i], dist[minDist]\n",
    "    \n",
    "    #defining a function to get the money from the corresponding distance from the dicitonary\n",
    "    def getValue(aKey):\n",
    "        for key,value in mydict.items():\n",
    "            if aKey == key:\n",
    "                return value\n",
    "        return (\"N/A\")\n",
    "    \n",
    "    #matching the money and distance:\n",
    "    for item in dist:\n",
    "        print(f\"{item} miles, £{getValue(item)}\")\n",
    "        \n",
    "\n",
    "def txtReader3(file):\n",
    "    master = []\n",
    "    with open (file, \"r\") as f:\n",
    "        for line in f:\n",
    "            line = line.strip().split(',')\n",
    "            line[0] = int(line[0])\n",
    "            line[1] = float(line[1])\n",
    "            master.append(line)\n",
    "    \n",
    "    selectionSortDistance(master)\n",
    "\n",
    "file = str(input(\"Please Enter a File name: \"))\n",
    "txtReader3(file)\n",
    "        \n",
    "        "
   ]
  },
  {
   "cell_type": "markdown",
   "id": "e2ed2f8f",
   "metadata": {},
   "source": [
    "## Task 3"
   ]
  },
  {
   "cell_type": "code",
   "execution_count": 57,
   "id": "2da40ce2",
   "metadata": {},
   "outputs": [
    {
     "name": "stdout",
     "output_type": "stream",
     "text": [
      "Please Enter a File name: Tiny.txt\n",
      "120 miles, £150.12\n",
      "140 miles, £180.1\n",
      "144 miles, £205.42\n",
      "70 miles, £250.02\n",
      "99 miles, £398.72\n"
     ]
    }
   ],
   "source": [
    "def selectionSortPrice(aList):\n",
    "    mydict = dict(aList)\n",
    "    \n",
    "    #creating a separate list of the prices\n",
    "    price = []\n",
    "    for i in aList:\n",
    "        price.append(i[1])\n",
    "        \n",
    "    #sorting the *price* list\n",
    "    index = range(0, len(dist)-1)\n",
    "    for i in index:\n",
    "        minPrice = i\n",
    "        for j in range (i+1, len(price)):\n",
    "            if price[j] < price[minPrice]:\n",
    "                minPrice = j\n",
    "        if minPrice != i:\n",
    "            price[minPrice], price[i] = price[i], price[minPrice]\n",
    "    \n",
    "    #defining a function to get the money from the corresponding distance from the dicitonary\n",
    "    def getKey(aValue):\n",
    "        for key,value in mydict.items():\n",
    "            if aValue == value:\n",
    "                return key\n",
    "        return (\"N/A\")\n",
    "    \n",
    "    #matching the price and distance:\n",
    "    for item in price:\n",
    "        print(f\"{getKey(item)} miles, £{item}\")\n",
    "        \n",
    "\n",
    "def txtReader4(file):\n",
    "    master = []\n",
    "    with open (file, \"r\") as f:\n",
    "        for line in f:\n",
    "            line = line.strip().split(',')\n",
    "            line[0] = int(line[0])\n",
    "            line[1] = float(line[1])\n",
    "            master.append(line)\n",
    "    \n",
    "    selectionSortPrice(master)\n",
    "\n",
    "file = str(input(\"Please Enter a File name: \"))\n",
    "txtReader4(file)"
   ]
  },
  {
   "cell_type": "code",
   "execution_count": 20,
   "id": "1ef1bfbd",
   "metadata": {},
   "outputs": [
    {
     "name": "stdout",
     "output_type": "stream",
     "text": [
      "120 miles, £150.12\n",
      "140 miles, £180.1\n",
      "70 miles, £250.02\n",
      "99 miles, £398.72\n",
      "144 miles, £205.42\n",
      "\n",
      "23 miles, £198.72\n",
      "244 miles, £205.42\n",
      "120 miles, £280.1\n",
      "130 miles, £350.12\n",
      "48 miles, £450.02\n"
     ]
    }
   ],
   "source": [
    "#creating a class called Data, which takes a txt file as an input and has methods to show the data\n",
    "\n",
    "class Data:\n",
    "    \n",
    "    def __init__ (self, filename):\n",
    "        self.master = []\n",
    "        with open (filename, \"r\") as f:\n",
    "            for line in f:\n",
    "                line = line.strip().split(\",\")\n",
    "                line[0] = int(line[0])\n",
    "                line[1] = float(line[1])\n",
    "                self.master.append(line)\n",
    "    \n",
    "    def show(self):\n",
    "        for item in self.master:\n",
    "            print(f\"{item[0]} miles, £{item[1]}\")\n",
    "    \n",
    "    def showPriceSorted(self):\n",
    "        #creating a dictionary to link the distance with prices\n",
    "        self.myDict = dict(self.master)\n",
    "        \n",
    "        #creating list of only prices\n",
    "        self.priceList = []\n",
    "        for item in self.master:\n",
    "            self.priceList.append(item[1])\n",
    "            \n",
    "        #the sorting algorithm\n",
    "        index = range(0, len(self.priceList)-1)\n",
    "        for i in index:\n",
    "            minPriceList = i\n",
    "            for j in range(i+1, len(self.priceList)):\n",
    "                if self.priceList[j] < self.priceList[minPriceList]:\n",
    "                    minPriceList = j\n",
    "            #swapping the minimum and bringing it to the front        \n",
    "            if minPriceList != i:\n",
    "                self.priceList[minPriceList], self.priceList[i] = self.priceList[i], self.priceList[minPriceList]\n",
    "        \n",
    "        #now the price list is sorted, need to link it to the distances and print it\n",
    "        #defining a function getKeys to get the distances\n",
    "        def getKey(aValue):\n",
    "            for key, value in self.myDict.items():\n",
    "                if aValue == value:\n",
    "                    return key\n",
    "            return (\"NAN\")\n",
    "        for item in self.priceList:\n",
    "            print(f\"{getKey(item)} miles, £{item}\")\n",
    "            \n",
    "        \n",
    "        \n",
    "            \n",
    "        \n",
    "data1 = Data(\"Tiny.txt\")\n",
    "data2 = Data(\"Tiny2.txt\")\n",
    "data1.show()\n",
    "print(\"\")\n",
    "data2.showPriceSorted()"
   ]
  },
  {
   "cell_type": "code",
   "execution_count": 21,
   "id": "32687f2f",
   "metadata": {},
   "outputs": [
    {
     "ename": "ValueError",
     "evalue": "dictionary update sequence element #0 has length 3; 2 is required",
     "output_type": "error",
     "traceback": [
      "\u001b[0;31m---------------------------------------------------------------------------\u001b[0m",
      "\u001b[0;31mValueError\u001b[0m                                Traceback (most recent call last)",
      "Input \u001b[0;32mIn [21]\u001b[0m, in \u001b[0;36m<cell line: 2>\u001b[0;34m()\u001b[0m\n\u001b[1;32m      1\u001b[0m a \u001b[38;5;241m=\u001b[39m [[\u001b[38;5;241m1\u001b[39m,\u001b[38;5;124m\"\u001b[39m\u001b[38;5;124mhel\u001b[39m\u001b[38;5;124m\"\u001b[39m,\u001b[38;5;124m\"\u001b[39m\u001b[38;5;124msd\u001b[39m\u001b[38;5;124m\"\u001b[39m],[\u001b[38;5;241m3\u001b[39m,\u001b[38;5;124m\"\u001b[39m\u001b[38;5;124mhsdfel\u001b[39m\u001b[38;5;124m\"\u001b[39m,\u001b[38;5;124m\"\u001b[39m\u001b[38;5;124msffd\u001b[39m\u001b[38;5;124m\"\u001b[39m],[\u001b[38;5;241m2\u001b[39m,\u001b[38;5;124m\"\u001b[39m\u001b[38;5;124mhel\u001b[39m\u001b[38;5;124m\"\u001b[39m,\u001b[38;5;124m\"\u001b[39m\u001b[38;5;124mxd\u001b[39m\u001b[38;5;124m\"\u001b[39m]]\n\u001b[0;32m----> 2\u001b[0m mydict \u001b[38;5;241m=\u001b[39m \u001b[38;5;28;43mdict\u001b[39;49m\u001b[43m(\u001b[49m\u001b[43ma\u001b[49m\u001b[43m)\u001b[49m\n\u001b[1;32m      3\u001b[0m \u001b[38;5;28mprint\u001b[39m(mydict)\n",
      "\u001b[0;31mValueError\u001b[0m: dictionary update sequence element #0 has length 3; 2 is required"
     ]
    }
   ],
   "source": [
    "a = [[1,\"hel\",\"sd\"],[3,\"hsdfel\",\"sffd\"],[2,\"hel\",\"xd\"]]\n",
    "mydict = dict(a)\n",
    "print(mydict)"
   ]
  },
  {
   "cell_type": "code",
   "execution_count": null,
   "id": "7bcfd91d",
   "metadata": {},
   "outputs": [],
   "source": []
  }
 ],
 "metadata": {
  "kernelspec": {
   "display_name": "Python 3 (ipykernel)",
   "language": "python",
   "name": "python3"
  },
  "language_info": {
   "codemirror_mode": {
    "name": "ipython",
    "version": 3
   },
   "file_extension": ".py",
   "mimetype": "text/x-python",
   "name": "python",
   "nbconvert_exporter": "python",
   "pygments_lexer": "ipython3",
   "version": "3.9.12"
  }
 },
 "nbformat": 4,
 "nbformat_minor": 5
}
