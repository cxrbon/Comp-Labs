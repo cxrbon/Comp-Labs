{
 "cells": [
  {
   "cell_type": "markdown",
   "id": "d48da020",
   "metadata": {},
   "source": [
    "## Task 1 ##"
   ]
  },
  {
   "cell_type": "code",
   "execution_count": 20,
   "id": "1ef1bfbd",
   "metadata": {},
   "outputs": [
    {
     "name": "stdout",
     "output_type": "stream",
     "text": [
      "120 miles, £150.12\n",
      "140 miles, £180.1\n",
      "70 miles, £250.02\n",
      "99 miles, £398.72\n",
      "144 miles, £205.42\n",
      "\n",
      "23 miles, £198.72\n",
      "244 miles, £205.42\n",
      "120 miles, £280.1\n",
      "130 miles, £350.12\n",
      "48 miles, £450.02\n"
     ]
    }
   ],
   "source": [
    "#creating a class called Data, which takes a txt file as an input and has methods to show the data\n",
    "\n",
    "class Data:\n",
    "    \n",
    "    def __init__ (self, filename):\n",
    "        self.master = []\n",
    "        with open (filename, \"r\") as f:\n",
    "            for line in f:\n",
    "                line = line.strip().split(\",\")\n",
    "                line[0] = int(line[0])\n",
    "                line[1] = float(line[1])\n",
    "                self.master.append(line)\n",
    "    \n",
    "    def show(self):\n",
    "        for item in self.master:\n",
    "            print(f\"{item[0]} miles, £{item[1]}\")\n",
    "    \n",
    "    def showPriceSorted(self):\n",
    "        #creating a dictionary to link the distance with prices\n",
    "        self.myDict = dict(self.master)\n",
    "        \n",
    "        #creating list of only prices\n",
    "        self.priceList = []\n",
    "        for item in self.master:\n",
    "            self.priceList.append(item[1])\n",
    "            \n",
    "        #the sorting algorithm\n",
    "        index = range(0, len(self.priceList)-1)\n",
    "        for i in index:\n",
    "            minPriceList = i\n",
    "            for j in range(i+1, len(self.priceList)):\n",
    "                if self.priceList[j] < self.priceList[minPriceList]:\n",
    "                    minPriceList = j\n",
    "            #swapping the minimum and bringing it to the front        \n",
    "            if minPriceList != i:\n",
    "                self.priceList[minPriceList], self.priceList[i] = self.priceList[i], self.priceList[minPriceList]\n",
    "        \n",
    "        #now the price list is sorted, need to link it to the distances and print it\n",
    "        #defining a function getKeys to get the distances\n",
    "        def getKey(aValue):\n",
    "            for key, value in self.myDict.items():\n",
    "                if aValue == value:\n",
    "                    return key\n",
    "            return (\"NAN\")\n",
    "        for item in self.priceList:\n",
    "            print(f\"{getKey(item)} miles, £{item}\")\n",
    "            \n",
    "        \n",
    "        \n",
    "            \n",
    "        \n",
    "data1 = Data(\"Tiny.txt\")\n",
    "data2 = Data(\"Tiny2.txt\")\n",
    "data1.show()\n",
    "print(\"\")\n",
    "data2.showPriceSorted()"
   ]
  },
  {
   "cell_type": "code",
   "execution_count": null,
   "id": "7bcfd91d",
   "metadata": {},
   "outputs": [],
   "source": [
    "file = input(\"Please enter a \")"
   ]
  }
 ],
 "metadata": {
  "kernelspec": {
   "display_name": "Python 3 (ipykernel)",
   "language": "python",
   "name": "python3"
  },
  "language_info": {
   "codemirror_mode": {
    "name": "ipython",
    "version": 3
   },
   "file_extension": ".py",
   "mimetype": "text/x-python",
   "name": "python",
   "nbconvert_exporter": "python",
   "pygments_lexer": "ipython3",
   "version": "3.9.12"
  }
 },
 "nbformat": 4,
 "nbformat_minor": 5
}
