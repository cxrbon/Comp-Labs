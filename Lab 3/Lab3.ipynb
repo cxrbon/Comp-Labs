{
 "cells": [
  {
   "cell_type": "markdown",
   "id": "d48da020",
   "metadata": {},
   "source": [
    "### Lab 2 Code ###"
   ]
  },
  {
   "cell_type": "code",
   "execution_count": null,
   "id": "1ef1bfbd",
   "metadata": {},
   "outputs": [],
   "source": [
    "#creating a class called Data, which takes a txt file as an input and has methods to show the data\n",
    "\n",
    "class Data:\n",
    "    \n",
    "    def __init__ (self, filename):\n",
    "        self.master = []\n",
    "        with open (filename, \"r\") as f:\n",
    "            for line in f:\n",
    "                line = line.strip().split(\",\")\n",
    "                line[0] = int(line[0])\n",
    "                line[1] = float(line[1])\n",
    "                self.master.append(line)\n",
    "    \n",
    "    def show(self):\n",
    "        for item in self.master:\n",
    "            print(f\"{item[0]} miles, £{item[1]}\")\n",
    "    \n",
    "    def showPriceSorted(self):\n",
    "        #creating a dictionary to link the distance with prices\n",
    "        self.myDict = dict(self.master)\n",
    "        \n",
    "        #creating list of only prices\n",
    "        self.priceList = []\n",
    "        for item in self.master:\n",
    "            self.priceList.append(item[1])\n",
    "            \n",
    "        #the sorting algorithm\n",
    "        index = range(0, len(self.priceList)-1)\n",
    "        for i in index:\n",
    "            minPriceList = i\n",
    "            for j in range(i+1, len(self.priceList)):\n",
    "                if self.priceList[j] < self.priceList[minPriceList]:\n",
    "                    minPriceList = j\n",
    "            #swapping the minimum and bringing it to the front        \n",
    "            if minPriceList != i:\n",
    "                self.priceList[minPriceList], self.priceList[i] = self.priceList[i], self.priceList[minPriceList]\n",
    "        \n",
    "        #now the price list is sorted, need to link it to the distances and print it\n",
    "        #defining a function getKeys to get the distances\n",
    "        def getKey(aValue):\n",
    "            for key, value in self.myDict.items():\n",
    "                if aValue == value:\n",
    "                    return key\n",
    "            return (\"NAN\")\n",
    "        for item in self.priceList:\n",
    "            print(f\"{getKey(item)} miles, £{item}\")\n",
    "    \n",
    "    def showDistanceSorted(self):\n",
    "        #creating a dictionary to link the distance with prices\n",
    "        self.myDict = dict(self.master)\n",
    "        \n",
    "        #creating list of only prices\n",
    "        self.distanceList = []\n",
    "        for item in self.master:\n",
    "            self.distanceList.append(item[0])\n",
    "            \n",
    "        #the sorting algorithm\n",
    "        index = range(0, len(self.distanceList)-1)\n",
    "        for i in index:\n",
    "            minDistanceList = i\n",
    "            for j in range(i+1, len(self.distanceList)):\n",
    "                if self.distanceList[j] < self.distanceList[minDistanceList]:\n",
    "                    minDistanceList = j\n",
    "            #swapping the minimum and bringing it to the front        \n",
    "            if minDistanceList != i:\n",
    "                self.distanceList[minDistanceList], self.distanceList[i] = self.distanceList[i], self.distanceList[minDistanceList]\n",
    "        \n",
    "        #now the price list is sorted, need to link it to the distances and print it\n",
    "        #defining a function getKeys to get the distances\n",
    "        def getValue(aKey):\n",
    "            for key, value in self.myDict.items():\n",
    "                if aKey == key:\n",
    "                    return value\n",
    "            return (\"NAN\")\n",
    "        for item in self.distanceList:\n",
    "            print(f\"{item} miles, £{getValue(item)}\")\n",
    "            \n",
    "        \n",
    "        \n",
    "            \n",
    "        \n",
    "data1 = Data(\"Tiny.txt\")\n",
    "data2 = Data(\"Tiny2.txt\")\n",
    "data1.show()\n",
    "print(\"\")\n",
    "data2.showPriceSorted()\n",
    "print(\"\")\n",
    "data2.showDistanceSorted()"
   ]
  },
  {
   "cell_type": "markdown",
   "id": "efd94678",
   "metadata": {},
   "source": [
    "### Task 1"
   ]
  },
  {
   "cell_type": "code",
   "execution_count": null,
   "id": "7bcfd91d",
   "metadata": {},
   "outputs": [],
   "source": [
    "file = input(\"Please enter the filename to extract data: \")\n",
    "dataX = Data(file)\n",
    "option = 0\n",
    "while True:\n",
    "    option = input(\"\"\"Please choose from the following options\n",
    "                1 = Print Data\n",
    "                2 = Sort data on Price\n",
    "                3 = Sort data on Distance\n",
    "                4 = Quit\n",
    "                \"\"\")\n",
    "    if option == \"1\":\n",
    "        dataX.show()\n",
    "    elif option == \"2\":\n",
    "        dataX.showPriceSorted()\n",
    "    elif option == \"3\":\n",
    "        dataX.showDistanceSorted()\n",
    "    else:\n",
    "        print(\"\"\"Quitting...\n",
    "        Program has ended. Thank You!\"\"\")\n",
    "        break\n",
    "    "
   ]
  },
  {
   "cell_type": "markdown",
   "id": "44a561cf",
   "metadata": {},
   "source": [
    "### Task 2"
   ]
  },
  {
   "cell_type": "code",
   "execution_count": 7,
   "id": "2f45c321",
   "metadata": {
    "scrolled": true
   },
   "outputs": [
    {
     "name": "stdout",
     "output_type": "stream",
     "text": [
      "[1, 0, 1, 0, 1, 0, 0]\n"
     ]
    }
   ],
   "source": [
    "def subsetOf (list1, list2):\n",
    "    k = []\n",
    "    for item in list1:\n",
    "        if item in list2:\n",
    "            k.append(1)\n",
    "        else:\n",
    "            k.append(0)\n",
    "    print(k)\n",
    "\n",
    "L=[2,17,12,5,66,20,7]\n",
    "M=[2,12,66]\n",
    "\n",
    "subsetOf(L,M)"
   ]
  },
  {
   "cell_type": "markdown",
   "id": "68367b36",
   "metadata": {},
   "source": [
    "### Task 3"
   ]
  },
  {
   "cell_type": "code",
   "execution_count": 10,
   "id": "d76dd733",
   "metadata": {},
   "outputs": [
    {
     "name": "stdout",
     "output_type": "stream",
     "text": [
      "[2, 66]\n"
     ]
    }
   ],
   "source": [
    "def duplicate(list1, list2): #using queue operations\n",
    "    checked = 0\n",
    "    n = len(list1)\n",
    "    while checked < n:\n",
    "        num = list1.pop(0)\n",
    "        checked += 1\n",
    "        if num in list2:\n",
    "            list1.append(num)\n",
    "    print(list1)\n",
    "\n",
    "L=[2,17,12,5,66,20,7]\n",
    "M=[2,12,66]\n",
    "\n",
    "duplicate(M,L)"
   ]
  },
  {
   "cell_type": "markdown",
   "id": "8b235289",
   "metadata": {},
   "source": [
    "### Task 4"
   ]
  },
  {
   "cell_type": "code",
   "execution_count": 20,
   "id": "40e5ef0e",
   "metadata": {},
   "outputs": [
    {
     "name": "stdout",
     "output_type": "stream",
     "text": [
      "20\n"
     ]
    }
   ],
   "source": [
    "def maxima(stack):\n",
    "    maxNum = -100000\n",
    "    while stack:\n",
    "        check = stack.pop()\n",
    "        if check > maxNum:\n",
    "            maxNum = check\n",
    "    print(maxNum)\n",
    "    \n",
    "L=[2,17,12,5,6,20,7]\n",
    "maxima(L)"
   ]
  },
  {
   "cell_type": "markdown",
   "id": "67d632de",
   "metadata": {},
   "source": [
    "### Task 5"
   ]
  },
  {
   "cell_type": "code",
   "execution_count": 35,
   "id": "6e9bd462",
   "metadata": {},
   "outputs": [
    {
     "name": "stdout",
     "output_type": "stream",
     "text": [
      "Product ID: 3521, Description: books\n",
      "Product ID: 6421, Description: shoes\n",
      "Product ID: 3212, Description: computers\n",
      "Product ID: 6631, Description: printers\n",
      "Product ID: 5438, Description: shirts\n",
      "4\n"
     ]
    }
   ],
   "source": [
    "class Products:\n",
    "    \n",
    "    def __init__ (self, filename):\n",
    "        self.master = []\n",
    "        with open (filename, \"r\") as f:\n",
    "            for line in f:\n",
    "                line = line.strip().split(\" \")\n",
    "                line[0] = int(line[0])\n",
    "                line[1] = str(line[1])\n",
    "                self.master.append(line)\n",
    "    \n",
    "    def show(self):\n",
    "        for item in self.master:\n",
    "            print(f\"Product ID: {item[0]}, Description: {item[1]}\")\n",
    "    \n",
    "    \n",
    "\n",
    "p1 = Products(\"product.txt\")\n",
    "p1.show()"
   ]
  },
  {
   "cell_type": "code",
   "execution_count": 57,
   "id": "d9a45ce3",
   "metadata": {},
   "outputs": [
    {
     "name": "stdout",
     "output_type": "stream",
     "text": [
      "0\n"
     ]
    }
   ],
   "source": [
    "a = [1,3,5,6,9,10,33,44]\n",
    "\n",
    "def sort(aList):\n",
    "    index = range(0,len(aList)-1)\n",
    "    for i in index:\n",
    "        minList = i\n",
    "        for j in range(i+1, len(aList)):\n",
    "            if aList[j] < aList[minList]:\n",
    "                minList = j\n",
    "        if minList != i:\n",
    "            aList[minList], aList[i] = aList[i], aList[minList]\n",
    "    return(aList)\n",
    "    \n",
    "def binarySearch(aList, target):\n",
    "    beginIndex = 0\n",
    "    endIndex = len(aList)-1\n",
    "    \n",
    "    while beginIndex <= endIndex:\n",
    "        midpoint = beginIndex + (endIndex-beginIndex) // 2\n",
    "        midpointValue = aList[midpoint]\n",
    "        if midpointValue == target:\n",
    "            return midpoint\n",
    "            break\n",
    "        elif midpointValue > target:\n",
    "            endIndex = midpoint-1\n",
    "        else:\n",
    "            beginIndex = midpoint +1\n",
    "    return (\"none\")\n",
    "\n",
    "print(binarySearch(a,1))\n",
    "        \n",
    "    "
   ]
  },
  {
   "cell_type": "code",
   "execution_count": null,
   "id": "a90bde00",
   "metadata": {},
   "outputs": [],
   "source": []
  }
 ],
 "metadata": {
  "kernelspec": {
   "display_name": "Python 3 (ipykernel)",
   "language": "python",
   "name": "python3"
  },
  "language_info": {
   "codemirror_mode": {
    "name": "ipython",
    "version": 3
   },
   "file_extension": ".py",
   "mimetype": "text/x-python",
   "name": "python",
   "nbconvert_exporter": "python",
   "pygments_lexer": "ipython3",
   "version": "3.9.12"
  }
 },
 "nbformat": 4,
 "nbformat_minor": 5
}
